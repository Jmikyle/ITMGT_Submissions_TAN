{
 "cells": [
  {
   "cell_type": "markdown",
   "metadata": {},
   "source": [
    "194843\n",
    "Tan\n",
    "1 BS ME"
   ]
  },
  {
   "cell_type": "code",
   "execution_count": 17,
   "metadata": {},
   "outputs": [],
   "source": [
    "# problem 1\n",
    "def relationship_status(from_member, to_member):\n",
    "    social_graph = {\n",
    "    \"@bongolpoc\":{\"first_name\":\"Joselito\",\n",
    "                  \"last_name\":\"Olpoc\",\n",
    "                  \"following\":[\n",
    "                  ]\n",
    "    },\n",
    "    \"@joaquin\":  {\"first_name\":\"Joaquin\",\n",
    "                  \"last_name\":\"Gonzales\",\n",
    "                  \"following\":[\n",
    "                      \"@chums\",\"@jobenilagan\"\n",
    "                  ]\n",
    "    },\n",
    "    \"@chums\" : {\"first_name\":\"Matthew\",\n",
    "                \"last_name\":\"Uy\",\n",
    "                \"following\":[\n",
    "                    \"@bongolpoc\",\"@miketan\",\"@rudyang\",\"@joeilagan\"\n",
    "                ]\n",
    "    },\n",
    "    \"@jobenilagan\":{\"first_name\":\"Joben\",\n",
    "                   \"last_name\":\"Ilagan\",\n",
    "                   \"following\":[\n",
    "                    \"@eeebeee\",\"@joeilagan\",\"@chums\",\"@joaquin\"\n",
    "                   ]\n",
    "    },\n",
    "    \"@joeilagan\":{\"first_name\":\"Joe\",\n",
    "                  \"last_name\":\"Ilagan\",\n",
    "                  \"following\":[\n",
    "                    \"@eeebeee\",\"@jobenilagan\",\"@chums\"\n",
    "                  ]\n",
    "    },\n",
    "    \"@eeebeee\":  {\"first_name\":\"Elizabeth\",\n",
    "                  \"last_name\":\"Ilagan\",\n",
    "                  \"following\":[\n",
    "                    \"@jobenilagan\",\"@joeilagan\"\n",
    "                  ]\n",
    "    },\n",
    "    }\n",
    "    # if both follow each other\n",
    "    if to_member in social_graph[from_member][\"following\"] and from_member in social_graph[to_member][\"following\"]:\n",
    "        message = \"friends\"\n",
    "    # if first person follows the second \n",
    "    elif to_member in social_graph[from_member][\"following\"]:\n",
    "        message = \"following\"\n",
    "    # if second follows first\n",
    "    elif from_member in social_graph[to_member][\"following\"]:\n",
    "        message = \"followed by\"\n",
    "    # if they dont follow each other\n",
    "    else:\n",
    "        return None\n",
    "    return message"
   ]
  },
  {
   "cell_type": "code",
   "execution_count": 41,
   "metadata": {},
   "outputs": [
    {
     "name": "stdout",
     "output_type": "stream",
     "text": [
      "X\n"
     ]
    }
   ],
   "source": [
    "# Problem 2 \n",
    "def get_winner(board):\n",
    "    winner = None\n",
    "    checking=[]\n",
    "    # check diagonals\n",
    "    uptodown = []\n",
    "    downtoup = []\n",
    "    for a,b in enumerate(board):\n",
    "        uptodown.append(board[a][a])\n",
    "        downtoup.append(board[2-a][a])\n",
    "    checking.extend([uptodown, downtoup])\n",
    "    #horizontal \n",
    "    checking.extend([board[0],board[1],board[2]])\n",
    "    # vertical\n",
    "    v1 = []\n",
    "    v2 = []\n",
    "    v3 = []\n",
    "    for x in board:\n",
    "        v1.append(x[0])\n",
    "    for x in board:\n",
    "        v2.append(x[1])\n",
    "    for x in board:\n",
    "        v3.append(x[2])\n",
    "    checking.extend([v1,v2,v3])\n",
    "    # set for each element in list\n",
    "    for x in checking:\n",
    "        if len(set(x))==1:\n",
    "            print(x[0])\n",
    "get_winner(board1) "
   ]
  },
  {
   "cell_type": "code",
   "execution_count": 70,
   "metadata": {},
   "outputs": [
    {
     "name": "stdout",
     "output_type": "stream",
     "text": [
      "55\n"
     ]
    }
   ],
   "source": [
    "# Problem 3 \n",
    "def eta(source, destination):\n",
    "    locations = {\n",
    "    \"admu\":{\n",
    "        \"name\":\"Ateneo de Manila University\",\n",
    "        \"latitude\":14.6394557,\n",
    "        \"longitude\":121.0758975        \n",
    "    },\n",
    "    \"upd\":{\n",
    "        \"name\":\"University of the Philippines-Diliman Campus\",\n",
    "        \"latitude\":14.6538519,\n",
    "        \"longitude\":121.0663348\n",
    "    },\n",
    "    \"dlsu\":{\n",
    "        \"name\":\"De La Salle University-Taft\",\n",
    "        \"latitude\":14.5647346,\n",
    "        \"longitude\":120.9909876\n",
    "\n",
    "    }, # <-- Note that Python does not complain about this extra comma. This is perfectly okay.\n",
    "       #     The creators of Python saw that dictionaries tend to be changed a lot, so allowing this is a\n",
    "       #     convenience for developers who need to add elements when needed.\n",
    "    }\n",
    "\n",
    "    legs = {\n",
    "         (\"upd\",\"admu\"):{\n",
    "             \"travel_time_mins\":10\n",
    "         },\n",
    "         (\"admu\",\"dlsu\"):{\n",
    "             \"travel_time_mins\":35\n",
    "         },\n",
    "         (\"dlsu\",\"upd\"):{\n",
    "             \"travel_time_mins\":55\n",
    "         }\n",
    "    }\n",
    "    a = 0\n",
    "    b = 0\n",
    "    for x in legs:\n",
    "        if x[0]==source and x[1]==destination:\n",
    "            a=(legs[x]['travel_time_mins'])\n",
    "        elif source==destination:\n",
    "            a=(10+35+55)\n",
    "        else:\n",
    "            if x[0]==source:\n",
    "                a=legs[x]['travel_time_mins']\n",
    "            if x[1]==destination:\n",
    "                b=legs[x]['travel_time_mins']\n",
    "    print(a+b)"
   ]
  },
  {
   "cell_type": "code",
   "execution_count": null,
   "metadata": {},
   "outputs": [],
   "source": []
  }
 ],
 "metadata": {
  "kernelspec": {
   "display_name": "Python 3",
   "language": "python",
   "name": "python3"
  },
  "language_info": {
   "codemirror_mode": {
    "name": "ipython",
    "version": 3
   },
   "file_extension": ".py",
   "mimetype": "text/x-python",
   "name": "python",
   "nbconvert_exporter": "python",
   "pygments_lexer": "ipython3",
   "version": "3.7.6"
  }
 },
 "nbformat": 4,
 "nbformat_minor": 4
}
