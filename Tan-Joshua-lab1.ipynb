{
 "cells": [
  {
   "cell_type": "markdown",
   "metadata": {},
   "source": [
    "194843\n",
    "Tan\n",
    "2 BS ME"
   ]
  },
  {
   "cell_type": "code",
   "execution_count": 1,
   "metadata": {},
   "outputs": [
    {
     "name": "stdout",
     "output_type": "stream",
     "text": [
      "Enter amount in US Dollars:1\n",
      "1.0US dollar(s) = 50.0 Philippine Pesos\n"
     ]
    }
   ],
   "source": [
    "dollars = float(input(\"Enter amount in US Dollars:\"))\n",
    "peso = dollars * 50\n",
    "print(f\"{dollars}US dollar(s) = {peso} Philippine Pesos\")"
   ]
  },
  {
   "cell_type": "code",
   "execution_count": 11,
   "metadata": {},
   "outputs": [
    {
     "name": "stdout",
     "output_type": "stream",
     "text": [
      "55\n",
      "3\n",
      "58.0\n",
      "52.0\n",
      "165.0\n",
      "18.0\n",
      "1.0\n"
     ]
    }
   ],
   "source": [
    "a = float(input())\n",
    "b = float(input())\n",
    "print(a+b)\n",
    "print(a-b)\n",
    "print(a*b)\n",
    "print(a//b)\n",
    "print(a%b)"
   ]
  },
  {
   "cell_type": "code",
   "execution_count": 15,
   "metadata": {},
   "outputs": [
    {
     "name": "stdout",
     "output_type": "stream",
     "text": [
      "Enter kg:65\n",
      "Enter cm:180\n"
     ]
    },
    {
     "data": {
      "text/plain": [
       "20.061728395061728"
      ]
     },
     "execution_count": 15,
     "metadata": {},
     "output_type": "execute_result"
    }
   ],
   "source": [
    "def compute_bmi(kg,m):\n",
    "    return kg/m**2\n",
    "def cmtom(cm):\n",
    "    return cm/100\n",
    "kg = float(input(\"Enter kg:\"))\n",
    "cm = float(input(\"Enter cm:\"))\n",
    "m = cmtom(cm)\n",
    "compute_bmi(kg,m)"
   ]
  },
  {
   "cell_type": "code",
   "execution_count": null,
   "metadata": {},
   "outputs": [],
   "source": []
  }
 ],
 "metadata": {
  "kernelspec": {
   "display_name": "Python 3",
   "language": "python",
   "name": "python3"
  },
  "language_info": {
   "codemirror_mode": {
    "name": "ipython",
    "version": 3
   },
   "file_extension": ".py",
   "mimetype": "text/x-python",
   "name": "python",
   "nbconvert_exporter": "python",
   "pygments_lexer": "ipython3",
   "version": "3.7.6"
  }
 },
 "nbformat": 4,
 "nbformat_minor": 4
}
