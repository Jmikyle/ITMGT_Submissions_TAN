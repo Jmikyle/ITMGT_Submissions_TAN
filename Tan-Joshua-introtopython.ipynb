{
 "cells": [
  {
   "cell_type": "markdown",
   "metadata": {},
   "source": [
    "194843\n",
    "Tan\n",
    "2 BS ME"
   ]
  },
  {
   "cell_type": "code",
   "execution_count": 3,
   "metadata": {},
   "outputs": [],
   "source": [
    "def three_number_average(first, second, third):\n",
    "\n",
    "    return(first + second + third)/3"
   ]
  },
  {
   "cell_type": "code",
   "execution_count": 7,
   "metadata": {},
   "outputs": [
    {
     "name": "stdout",
     "output_type": "stream",
     "text": [
      "Enter first number:1\n",
      "Enter second number:2\n",
      "Enter third number:3\n",
      "The average is 2.0\n"
     ]
    }
   ],
   "source": [
    "first = float(input(\"Enter first number:\"))\n",
    "second = float(input(\"Enter second number:\"))\n",
    "third = float(input(\"Enter third number:\"))\n",
    "ave = three_number_average(first, second, third)\n",
    "print(f\"The average is {ave}\")"
   ]
  }
 ],
 "metadata": {
  "kernelspec": {
   "display_name": "Python 3",
   "language": "python",
   "name": "python3"
  },
  "language_info": {
   "codemirror_mode": {
    "name": "ipython",
    "version": 3
   },
   "file_extension": ".py",
   "mimetype": "text/x-python",
   "name": "python",
   "nbconvert_exporter": "python",
   "pygments_lexer": "ipython3",
   "version": "3.7.6"
  }
 },
 "nbformat": 4,
 "nbformat_minor": 4
}
